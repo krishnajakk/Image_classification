{
  "cells": [
    {
      "cell_type": "code",
      "execution_count": 75,
      "metadata": {
        "id": "ooTCiyxMOz9w"
      },
      "outputs": [],
      "source": [
        "import tensorflow as tf\n",
        "from tensorflow import keras\n",
        "from tensorflow.keras import layers\n",
        "import os\n",
        "import cv2\n",
        "import numpy as np\n",
        "import matplotlib.pyplot as plt\n",
        "from tensorflow.keras.preprocessing.image import ImageDataGenerator\n",
        "from PIL import Image\n",
        "from tensorflow.keras.optimizers import SGD, Adam, RMSprop\n",
        "from tensorflow.keras.regularizers import l2,l1\n",
        "from sklearn.preprocessing import LabelEncoder\n"
      ]
    },
    {
      "cell_type": "code",
      "execution_count": null,
      "metadata": {
        "colab": {
          "base_uri": "https://localhost:8080/"
        },
        "id": "3Rt4ox22PHvL",
        "outputId": "be484902-39f9-4fb5-9df7-172df172cb63"
      },
      "outputs": [
        {
          "name": "stdout",
          "output_type": "stream",
          "text": [
            "Mounted at /content/drive\n"
          ]
        }
      ],
      "source": [
        "from google.colab import drive\n",
        "drive.mount('/content/drive')"
      ]
    },
    {
      "cell_type": "code",
      "execution_count": null,
      "metadata": {
        "id": "VmFW_6UwSnjB"
      },
      "outputs": [],
      "source": [
        "train_datagen = ImageDataGenerator(rescale=1./255)\n",
        "test_datagen = ImageDataGenerator(rescale=1./255)"
      ]
    },
    {
      "cell_type": "code",
      "execution_count": null,
      "metadata": {
        "colab": {
          "background_save": true,
          "base_uri": "https://localhost:8080/"
        },
        "id": "lSYJVl1TTClH",
        "outputId": "97b3ce57-2dc3-454a-8588-ad229532e819"
      },
      "outputs": [
        {
          "name": "stdout",
          "output_type": "stream",
          "text": [
            "Found 6000 images belonging to 2 classes.\n",
            "Found 2000 images belonging to 2 classes.\n"
          ]
        }
      ],
      "source": [
        "from tensorflow.python import train\n",
        "# Load the real and fake galaxy images from the directories\n",
        "train_dir = '/content/drive/MyDrive/Group_Project_Data/Train'\n",
        "test_dir = '/content/drive/MyDrive/Group_Project_Data/Valid'\n",
        "\n",
        "\n",
        "train_generator = train_datagen.flow_from_directory(train_dir,target_size=(64, 64), batch_size=128, class_mode='binary',color_mode='grayscale')\n",
        "\n",
        "test_generator = test_datagen.flow_from_directory(test_dir,target_size=(64, 64), batch_size=128, class_mode='binary',color_mode='grayscale')\n",
        "#train images are loaded\n",
        "x_train=[]\n",
        "y_train=[]\n",
        "\n",
        "for i in range(len(train_generator)):\n",
        "  batch_x,batch_y=next(train_generator)\n",
        "  x_train.append(batch_x)\n",
        "  y_train.append(batch_y)\n",
        "\n",
        "x_train=np.concatenate(x_train,axis=0)\n",
        "y_train=np.concatenate(y_train,axis=0)\n",
        "#test images are loaded\n",
        "x_test=[]\n",
        "y_test=[]\n",
        "\n",
        "for i in range(len(test_generator)):\n",
        "  batch_x,batch_y=next(test_generator)\n",
        "  x_test.append(batch_x)\n",
        "  y_test.append(batch_y)\n",
        "x_test=np.concatenate(x_test,axis=0)\n",
        "y_test=np.concatenate(y_test,axis=0)\n",
        "\n"
      ]
    },
    {
      "cell_type": "code",
      "execution_count": 5,
      "metadata": {
        "colab": {
          "base_uri": "https://localhost:8080/",
          "height": 472
        },
        "id": "O0ChvGt3I-NK",
        "outputId": "6769c8f5-c522-4647-885a-e49f4d177a48"
      },
      "outputs": [
        {
          "output_type": "stream",
          "name": "stdout",
          "text": [
            "(64, 64, 1)\n"
          ]
        },
        {
          "output_type": "execute_result",
          "data": {
            "text/plain": [
              "<matplotlib.image.AxesImage at 0x7fc288b55390>"
            ]
          },
          "metadata": {},
          "execution_count": 5
        },
        {
          "output_type": "display_data",
          "data": {
            "text/plain": [
              "<Figure size 480x480 with 1 Axes>"
            ],
            "image/png": "[encoded data removed]"
          },
          "metadata": {}
        }
      ],
      "source": [
        "print(x_train[0].shape)\n",
        "plt.matshow(x_train[0])"
      ]
    },
    {
      "cell_type": "code",
      "execution_count": 100,
      "metadata": {
        "colab": {
          "base_uri": "https://localhost:8080/"
        },
        "id": "dYDvEEnAt6a-",
        "outputId": "4af734fe-f8ea-4ecd-ae64-a2e757daf8d8"
      },
      "outputs": [
        {
          "output_type": "stream",
          "name": "stdout",
          "text": [
            "Model: \"sequential_10\"\n",
            "_________________________________________________________________\n",
            " Layer (type)                Output Shape              Param #   \n",
            "=================================================================\n",
            " conv2d_35 (Conv2D)          (None, 62, 62, 32)        320       \n",
            "                                                                 \n",
            " max_pooling2d_34 (MaxPoolin  (None, 31, 31, 32)       0         \n",
            " g2D)                                                            \n",
            "                                                                 \n",
            " conv2d_36 (Conv2D)          (None, 29, 29, 64)        18496     \n",
            "                                                                 \n",
            " max_pooling2d_35 (MaxPoolin  (None, 14, 14, 64)       0         \n",
            " g2D)                                                            \n",
            "                                                                 \n",
            " conv2d_37 (Conv2D)          (None, 12, 12, 128)       73856     \n",
            "                                                                 \n",
            " max_pooling2d_36 (MaxPoolin  (None, 6, 6, 128)        0         \n",
            " g2D)                                                            \n",
            "                                                                 \n",
            " conv2d_38 (Conv2D)          (None, 4, 4, 256)         295168    \n",
            "                                                                 \n",
            " max_pooling2d_37 (MaxPoolin  (None, 2, 2, 256)        0         \n",
            " g2D)                                                            \n",
            "                                                                 \n",
            " flatten_8 (Flatten)         (None, 1024)              0         \n",
            "                                                                 \n",
            " dense_24 (Dense)            (None, 128)               131200    \n",
            "                                                                 \n",
            " dropout_15 (Dropout)        (None, 128)               0         \n",
            "                                                                 \n",
            " dense_25 (Dense)            (None, 64)                8256      \n",
            "                                                                 \n",
            " dropout_16 (Dropout)        (None, 64)                0         \n",
            "                                                                 \n",
            " dense_26 (Dense)            (None, 1)                 65        \n",
            "                                                                 \n",
            "=================================================================\n",
            "Total params: 527,361\n",
            "Trainable params: 527,361\n",
            "Non-trainable params: 0\n",
            "_________________________________________________________________\n"
          ]
        }
      ],
      "source": [
        "from tensorflow.keras import layers, models, optimizers, losses, callbacks,\\\n",
        "                             regularizers,Sequential\n",
        "from tensorflow.keras.layers import Conv2D, MaxPooling2D, Flatten, Dense, InputLayer, Dropout\n",
        "\n",
        "\n",
        "model = Sequential()\n",
        "\n",
        "# Input layer\n",
        "model.add(InputLayer(input_shape=(64, 64, 1)))\n",
        "\n",
        "# Convolutional layer 1\n",
        "model.add(Conv2D(filters=32, kernel_size=(3, 3), activation='relu'))\n",
        "model.add(MaxPooling2D(pool_size=(2, 2)))\n",
        "\n",
        "# Convolutional layer 2\n",
        "model.add(Conv2D(filters=64, kernel_size=(3, 3), activation='relu'))\n",
        "model.add(MaxPooling2D(pool_size=(2, 2)))\n",
        "\n",
        "# Convolutional layer 3\n",
        "model.add(Conv2D(filters=128, kernel_size=(3, 3), activation='relu', kernel_regularizer=l2(0.001)))\n",
        "model.add(MaxPooling2D(pool_size=(2, 2)))\n",
        "\n",
        "# Convolutional layer 4\n",
        "model.add(Conv2D(filters=256, kernel_size=(3, 3), activation='relu', kernel_regularizer=l2(0.001)))\n",
        "model.add(MaxPooling2D(pool_size=(2, 2)))\n",
        "\n",
        "\n",
        "# Flatten layer\n",
        "model.add(Flatten())\n",
        "\n",
        "# Dense layer 1\n",
        "model.add(Dense(units=128, activation='relu', kernel_regularizer=l2(0.001)))\n",
        "\n",
        "# Dropout layer\n",
        "model.add(Dropout(0.25))\n",
        "\n",
        "# Dense layer 2\n",
        "model.add(Dense(units=64, activation='relu'))\n",
        "\n",
        "# Dropout layer\n",
        "model.add(Dropout(0.25))\n",
        "\n",
        "# Output layer\n",
        "model.add(Dense(units=1, activation='sigmoid'))\n",
        "\n",
        "model.summary()\n"
      ]
    },
    {
      "cell_type": "code",
      "execution_count": 104,
      "metadata": {
        "id": "rEINFhTYA1bt"
      },
      "outputs": [],
      "source": [
        "# Compile the model\n",
        "model.compile(optimizer=Adam(learning_rate=0.003),\n",
        "              loss='binary_crossentropy',\n",
        "              metrics=['accuracy'])\n"
      ]
    },
    {
      "cell_type": "code",
      "execution_count": 105,
      "metadata": {
        "colab": {
          "base_uri": "https://localhost:8080/"
        },
        "id": "vfXwnND0Cp7A",
        "outputId": "bb51a92d-6821-4da4-c2dc-520bf975e3a0"
      },
      "outputs": [
        {
          "output_type": "stream",
          "name": "stdout",
          "text": [
            "Epoch 1/25\n",
            "47/47 [==============================] - 5s 25ms/step - loss: 0.7496 - accuracy: 0.5532 - val_loss: 0.4310 - val_accuracy: 0.8370\n",
            "Epoch 2/25\n",
            "47/47 [==============================] - 1s 19ms/step - loss: 0.1466 - accuracy: 0.9703 - val_loss: 0.0782 - val_accuracy: 0.9865\n",
            "Epoch 3/25\n",
            "47/47 [==============================] - 1s 18ms/step - loss: 0.0944 - accuracy: 0.9785 - val_loss: 0.0745 - val_accuracy: 0.9850\n",
            "Epoch 4/25\n",
            "47/47 [==============================] - 1s 18ms/step - loss: 0.0681 - accuracy: 0.9872 - val_loss: 0.0598 - val_accuracy: 0.9840\n",
            "Epoch 5/25\n",
            "47/47 [==============================] - 1s 19ms/step - loss: 0.0305 - accuracy: 0.9970 - val_loss: 0.0287 - val_accuracy: 0.9965\n",
            "Epoch 6/25\n",
            "47/47 [==============================] - 1s 19ms/step - loss: 0.0633 - accuracy: 0.9847 - val_loss: 0.0856 - val_accuracy: 0.9815\n",
            "Epoch 7/25\n",
            "47/47 [==============================] - 1s 17ms/step - loss: 0.0601 - accuracy: 0.9902 - val_loss: 0.0430 - val_accuracy: 0.9935\n",
            "Epoch 8/25\n",
            "47/47 [==============================] - 1s 17ms/step - loss: 0.0330 - accuracy: 0.9962 - val_loss: 0.0270 - val_accuracy: 0.9965\n",
            "Epoch 9/25\n",
            "47/47 [==============================] - 1s 19ms/step - loss: 0.0218 - accuracy: 0.9983 - val_loss: 0.0223 - val_accuracy: 0.9980\n",
            "Epoch 10/25\n",
            "47/47 [==============================] - 1s 18ms/step - loss: 0.0208 - accuracy: 0.9980 - val_loss: 0.0200 - val_accuracy: 0.9985\n",
            "Epoch 11/25\n",
            "47/47 [==============================] - 1s 17ms/step - loss: 0.0263 - accuracy: 0.9960 - val_loss: 0.0262 - val_accuracy: 0.9955\n",
            "Epoch 12/25\n",
            "47/47 [==============================] - 1s 21ms/step - loss: 0.0177 - accuracy: 0.9978 - val_loss: 0.0220 - val_accuracy: 0.9970\n",
            "Epoch 13/25\n",
            "47/47 [==============================] - 1s 19ms/step - loss: 0.0146 - accuracy: 0.9983 - val_loss: 0.0144 - val_accuracy: 0.9985\n",
            "Epoch 14/25\n",
            "47/47 [==============================] - 1s 21ms/step - loss: 0.0121 - accuracy: 0.9992 - val_loss: 0.0103 - val_accuracy: 0.9990\n",
            "Epoch 15/25\n",
            "47/47 [==============================] - 1s 20ms/step - loss: 0.0112 - accuracy: 0.9990 - val_loss: 0.0106 - val_accuracy: 0.9990\n",
            "Epoch 16/25\n",
            "47/47 [==============================] - 1s 17ms/step - loss: 0.0106 - accuracy: 0.9990 - val_loss: 0.0084 - val_accuracy: 1.0000\n",
            "Epoch 17/25\n",
            "47/47 [==============================] - 1s 17ms/step - loss: 0.0078 - accuracy: 0.9997 - val_loss: 0.0068 - val_accuracy: 1.0000\n",
            "Epoch 18/25\n",
            "47/47 [==============================] - 1s 17ms/step - loss: 0.0100 - accuracy: 0.9992 - val_loss: 0.0088 - val_accuracy: 1.0000\n",
            "Epoch 19/25\n",
            "47/47 [==============================] - 1s 17ms/step - loss: 0.0082 - accuracy: 0.9995 - val_loss: 0.0065 - val_accuracy: 1.0000\n",
            "Epoch 20/25\n",
            "47/47 [==============================] - 1s 19ms/step - loss: 0.0065 - accuracy: 0.9998 - val_loss: 0.0070 - val_accuracy: 0.9990\n"
          ]
        }
      ],
      "source": [
        "Early_Stop = callbacks.EarlyStopping(monitor='val_accuracy', patience=4)\n",
        "\n",
        "# Train the model\n",
        "history = model.fit(x_train, y_train,batch_size=128,epochs=25, callbacks=[Early_Stop],\n",
        "                    validation_data=(x_test, y_test))"
      ]
    },
    {
      "cell_type": "code",
      "execution_count": 106,
      "metadata": {
        "colab": {
          "base_uri": "https://localhost:8080/"
        },
        "id": "lD4Db3z9Cp3j",
        "outputId": "c9c6939a-d69b-4420-f0d1-e702e9ebff45"
      },
      "outputs": [
        {
          "output_type": "stream",
          "name": "stdout",
          "text": [
            "63/63 [==============================] - 0s 4ms/step - loss: 0.0070 - accuracy: 0.9990\n",
            "Test loss: 0.0069955275394022465\n",
            "Test accuracy: 0.9990000128746033\n",
            "63/63 [==============================] - 0s 2ms/step\n",
            "Pred:  [1 1 0 1 0 0 0 0 0 1 0 1 0 0 1 1 1 0 1 0]\n",
            "Test:  [1. 1. 0. 1. 0. 0. 0. 0. 0. 1. 0. 1. 0. 0. 1. 1. 1. 0. 1. 0.]\n",
            "['Real', 'Real', 'Fake', 'Real', 'Fake', 'Fake', 'Fake', 'Fake', 'Fake', 'Real']\n",
            "['Real', 'Real', 'Fake', 'Real', 'Fake', 'Fake', 'Fake', 'Fake', 'Fake', 'Real']\n"
          ]
        }
      ],
      "source": [
        "# Make predictions on new images\n",
        "#new_image = cv2.imread('/content/drive/MyDrive/Documents/Group_Project_Data/Train/Fake/img_567.png')\n",
        "#print(new_image.shape)\n",
        "#new_image = cv2.resize(new_image, (64, 64))\n",
        "#new_image = np.array([new_image])\n",
        "# Evaluate the model on the test data\n",
        "loss, accuracy = model.evaluate(x_test, y_test)\n",
        "\n",
        "# Print the evaluation metrics\n",
        "print('Test loss:', loss)\n",
        "print('Test accuracy:', accuracy)\n",
        "\n",
        "\n",
        "prediction = model.predict(x_test)\n",
        "#prediction_classes = np.argmax(prediction, axis=1)\n",
        "y_pred = tf.where(prediction <= 0.5,0,1)\n",
        "y_pred_classes = np.array(y_pred).reshape(-1,)\n",
        "print('Pred: ',y_pred_classes[:20])\n",
        "\n",
        "#y_test = y_test.reshape(-1,)\n",
        "print(\"Test: \",y_test[:20])\n",
        "labels = {0:'Fake', 1:'Real'}\n",
        "# Convert label indices to label names\n",
        "y_test_labels = [labels[y] for y in y_test]\n",
        "pred_labels = [labels[y] for y in y_pred_classes]\n",
        "\n",
        "print(y_test_labels[:10])  \n",
        "print(pred_labels[:10])\n",
        "\n",
        "\n",
        "#if(prediction>.60):\n",
        "#  print('label 1')\n",
        "#  print('image is real')\n",
        "#else:\n",
        "#  print('label 0')\n",
        "#  print('image is fake')\n",
        "\n"
      ]
    },
    {
      "cell_type": "code",
      "execution_count": 107,
      "metadata": {
        "colab": {
          "base_uri": "https://localhost:8080/",
          "height": 410
        },
        "id": "5CdoDCm2NCoV",
        "outputId": "fcbc5d2f-9409-4631-cd27-4ae3f128c270"
      },
      "outputs": [
        {
          "output_type": "display_data",
          "data": {
            "text/plain": [
              "<Figure size 1000x400 with 2 Axes>"
            ],
            "image/png": "[encoded data removed]"
          },
          "metadata": {}
        }
      ],
      "source": [
        "fig, axes = plt.subplots(1, 2, figsize=(10,4))\n",
        "plt.subplots_adjust(wspace=0.4, hspace=0.4)\n",
        "axes[0].plot(history.history['accuracy'], label='Train')\n",
        "axes[0].plot(history.history['val_accuracy'], label='Test')\n",
        "axes[0].set_title(\"Accuracy vs. epoch\")\n",
        "axes[0].set_xlabel('Epochs')\n",
        "axes[0].set_ylabel('Accuracy')\n",
        "axes[0].legend()\n",
        "axes[1].plot(history.history['loss'], label='Train')\n",
        "axes[1].plot(history.history['val_loss'], label='Test')\n",
        "axes[1].set_title(\"Loss vs. epoch\")\n",
        "axes[1].set_xlabel('Epochs')\n",
        "axes[1].set_ylabel('Loss')\n",
        "axes[1].legend()\n",
        "plt.show()"
      ]
    }
  ],
  "metadata": {
    "accelerator": "GPU",
    "colab": {
      "provenance": []
    },
    "gpuClass": "standard",
    "kernelspec": {
      "display_name": "Python 3",
      "name": "python3"
    },
    "language_info": {
      "name": "python"
    }
  },
  "nbformat": 4,
  "nbformat_minor": 0
}